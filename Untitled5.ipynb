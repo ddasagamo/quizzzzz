{
  "nbformat": 4,
  "nbformat_minor": 0,
  "metadata": {
    "colab": {
      "provenance": [],
      "authorship_tag": "ABX9TyOvG4F3yyjQGS2LLKuRklL0",
      "include_colab_link": true
    },
    "kernelspec": {
      "name": "python3",
      "display_name": "Python 3"
    },
    "language_info": {
      "name": "python"
    }
  },
  "cells": [
    {
      "cell_type": "markdown",
      "metadata": {
        "id": "view-in-github",
        "colab_type": "text"
      },
      "source": [
        "<a href=\"https://colab.research.google.com/github/ddasagamo/quizzzzz/blob/main/Untitled5.ipynb\" target=\"_parent\"><img src=\"https://colab.research.google.com/assets/colab-badge.svg\" alt=\"Open In Colab\"/></a>"
      ]
    },
    {
      "cell_type": "code",
      "source": [
        "class Nodo:\n",
        "    def __init__(self,id,nombre,semestre,edad):\n",
        "        self.nombre = nombre\n",
        "        self.id = id\n",
        "        self.semestre = semestre\n",
        "        self.edad = edad\n",
        "        self.siguiente = None\n",
        "        self.anterior = None\n",
        "\n",
        "\n",
        "class ListaDobleEnlazada:\n",
        "    def __init__(self):\n",
        "        self.cabeza = None\n",
        "\n",
        "\n",
        "    def insertar(self,id,nombre,semestre,edad):\n",
        "        nuevo_nodo = Nodo(id,nombre,semestre,edad)\n",
        "        if not self.cabeza:\n",
        "            self.cabeza = nuevo_nodo\n",
        "        else:\n",
        "            actual = self.cabeza\n",
        "            while actual.siguiente:\n",
        "                actual = actual.siguiente\n",
        "            actual.siguiente = nuevo_nodo\n",
        "            nuevo_nodo.anterior = actual\n",
        "\n",
        "\n",
        "    def mostrar_adelante(self):\n",
        "        if not self.cabeza:\n",
        "            print(\"La lista está vacía.\")\n",
        "            return\n",
        "        actual = self.cabeza\n",
        "        while actual:\n",
        "            print(f\"Nombre: {actual.nombre}\",(f\"Id: {actual.id}\"),(f\"semestre: {actual.semestre}\"),(f\"Edad: {actual.edad}\"), end=\" <-> \")\n",
        "            actual = actual.siguiente\n",
        "        print(\"None\")\n",
        "\n",
        "    def mostrar_atras(self):\n",
        "        if not self.cabeza:\n",
        "            print(\"La lista está vacía.\")\n",
        "            return\n",
        "        actual = self.cabeza\n",
        "        while actual.siguiente:\n",
        "            actual = actual.siguiente\n",
        "\n",
        "        while actual:\n",
        "            print(f\"Nombre: {actual.nombre}\",(f\"Id: {actual.id}\"),(f\"semestre: {actual.semestre}\"),(f\"Edad: {actual.edad}\"), end=\" <-> \")\n",
        "            actual = actual.anterior\n",
        "        print(\"None\")\n",
        "\n",
        "    def ordenar(self):\n",
        "        if self.cabeza is None:\n",
        "            return\n",
        "\n",
        "        intercambiado = True\n",
        "        while intercambiado:\n",
        "            intercambiado = False\n",
        "            temp = self.cabeza\n",
        "\n",
        "            while temp.siguiente:\n",
        "                if temp.id > temp.siguiente.id:\n",
        "                    temp.id, temp.siguiente.id = temp.siguiente.id, temp.id\n",
        "                    temp.nombre, temp.siguiente.nombre = temp.siguiente.nombre, temp.nombre\n",
        "                    temp.semestre, temp.siguiente.semestre = temp.siguiente.semestre, temp.semestre\n",
        "                    temp.edad, temp.siguiente.edad = temp.siguiente.edad, temp.edad\n",
        "                    intercambiado = True\n",
        "                temp = temp.siguiente\n",
        "\n",
        "\n",
        "lista_doble = ListaDobleEnlazada()\n",
        "\n",
        "\n",
        "lista_doble.insertar(884847, 'Pedro', 'Sanchez', 35)\n",
        "lista_doble.insertar(254863, 'Julian', 'Salas', 20)\n",
        "lista_doble.insertar(546912, 'Daniel', 'Rodriguez', 66)\n",
        "\n",
        "\n",
        "print(\"Lista de adelante hacia atrás:\")\n",
        "lista_doble.mostrar_adelante()\n",
        "\n",
        "lista_doble.ordenar()\n",
        "\n",
        "\n",
        "print(\"\\nLista de atrás hacia adelante:\")\n",
        "lista_doble.mostrar_atras()\n",
        "\n",
        "\n",
        "\n",
        "\n",
        "\n"
      ],
      "metadata": {
        "colab": {
          "base_uri": "https://localhost:8080/"
        },
        "id": "HunhpV1GAPZv",
        "outputId": "7d36ba0a-186b-4099-fd69-2a35a10bfe35"
      },
      "execution_count": null,
      "outputs": [
        {
          "output_type": "stream",
          "name": "stdout",
          "text": [
            "Lista de adelante hacia atrás:\n",
            "Nombre: Pedro Id: 884847 semestre: Sanchez Edad: 35 <-> Nombre: Julian Id: 254863 semestre: Salas Edad: 20 <-> Nombre: Daniel Id: 546912 semestre: Rodriguez Edad: 66 <-> None\n",
            "\n",
            "Lista de atrás hacia adelante:\n",
            "Nombre: Pedro Id: 884847 semestre: Sanchez Edad: 35 <-> Nombre: Daniel Id: 546912 semestre: Rodriguez Edad: 66 <-> Nombre: Julian Id: 254863 semestre: Salas Edad: 20 <-> None\n"
          ]
        }
      ]
    }
  ]
}